{
  "nbformat": 4,
  "nbformat_minor": 0,
  "metadata": {
    "colab": {
      "name": " Multilayer Perceptrons.ipynb",
      "provenance": [],
      "authorship_tag": "ABX9TyOMhs/l0TtAivbSKBAGz0eQ",
      "include_colab_link": true
    },
    "kernelspec": {
      "name": "python3",
      "display_name": "Python 3"
    }
  },
  "cells": [
    {
      "cell_type": "markdown",
      "metadata": {
        "id": "view-in-github",
        "colab_type": "text"
      },
      "source": [
        "<a href=\"https://colab.research.google.com/github/bhushanyadav07/Deep-learning-Notes/blob/master/Multilayer_Perceptrons.ipynb\" target=\"_parent\"><img src=\"https://colab.research.google.com/assets/colab-badge.svg\" alt=\"Open In Colab\"/></a>"
      ]
    },
    {
      "cell_type": "markdown",
      "metadata": {
        "id": "LIZdpF-fmbPc",
        "colab_type": "text"
      },
      "source": [
        "Programming quiz\n",
        "Below, you'll implement a forward pass through a 4x3x2 network, with sigmoid activation functions for both layers.\n",
        "\n",
        "Things to do:\n",
        "\n",
        "Calculate the input to the hidden layer.\\\n",
        "Calculate the hidden layer output.\\\n",
        "Calculate the input to the output layer.\\\n",
        "Calculate the output of the network"
      ]
    },
    {
      "cell_type": "code",
      "metadata": {
        "id": "8FaHYz8FmJca",
        "colab_type": "code",
        "colab": {
          "base_uri": "https://localhost:8080/",
          "height": 84
        },
        "outputId": "a2ec36b7-5ee3-4ebc-ebb3-8fb6c8b4cf31"
      },
      "source": [
        "import numpy as np\n",
        "\n",
        "def sigmoid(x):\n",
        "    \"\"\"\n",
        "    Calculate sigmoid\n",
        "    \"\"\"\n",
        "    return 1/(1+np.exp(-x))\n",
        "\n",
        "# Network size\n",
        "N_input = 4\n",
        "N_hidden = 3\n",
        "N_output = 2\n",
        "\n",
        "np.random.seed(42)\n",
        "# Make some fake data\n",
        "X = np.random.randn(4)\n",
        "\n",
        "weights_input_to_hidden = np.random.normal(0, scale=0.1, size=(N_input, N_hidden))\n",
        "weights_hidden_to_output = np.random.normal(0, scale=0.1, size=(N_hidden, N_output))\n",
        "\n",
        "\n",
        "# TODO: Make a forward pass through the network\n",
        "\n",
        "hidden_layer_in = np.dot(X, weights_input_to_hidden)\n",
        "hidden_layer_out = sigmoid(hidden_layer_in)\n",
        "\n",
        "print('Hidden-layer Output:')\n",
        "print(hidden_layer_out)\n",
        "\n",
        "output_layer_in = np.dot(hidden_layer_out, weights_hidden_to_output)\n",
        "output_layer_out = sigmoid(output_layer_in)\n",
        "\n",
        "print('Output-layer Output:')\n",
        "print(output_layer_out)"
      ],
      "execution_count": 3,
      "outputs": [
        {
          "output_type": "stream",
          "text": [
            "Hidden-layer Output:\n",
            "[0.41492192 0.42604313 0.5002434 ]\n",
            "Output-layer Output:\n",
            "[0.49815196 0.48539772]\n"
          ],
          "name": "stdout"
        }
      ]
    },
    {
      "cell_type": "code",
      "metadata": {
        "id": "z3u6vlvDhLDg",
        "colab_type": "code",
        "colab": {}
      },
      "source": [
        ""
      ],
      "execution_count": 0,
      "outputs": []
    }
  ]
}