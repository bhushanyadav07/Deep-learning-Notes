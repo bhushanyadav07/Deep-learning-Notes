{
  "nbformat": 4,
  "nbformat_minor": 0,
  "metadata": {
    "colab": {
      "name": "matrix related.ipynb",
      "provenance": [],
      "private_outputs": true,
      "authorship_tag": "ABX9TyNWTpYTUHsmbapul5GmlOjA",
      "include_colab_link": true
    },
    "kernelspec": {
      "name": "python3",
      "display_name": "Python 3"
    }
  },
  "cells": [
    {
      "cell_type": "markdown",
      "metadata": {
        "id": "view-in-github",
        "colab_type": "text"
      },
      "source": [
        "<a href=\"https://colab.research.google.com/github/bhushanyadav07/Notes/blob/master/matrix_related.ipynb\" target=\"_parent\"><img src=\"https://colab.research.google.com/assets/colab-badge.svg\" alt=\"Open In Colab\"/></a>"
      ]
    },
    {
      "cell_type": "code",
      "metadata": {
        "id": "F1I63SFN7khL",
        "colab_type": "code",
        "colab": {}
      },
      "source": [
        "values = [1, 2, 3, 4, 5]\n",
        "for i in range(len(values)):\n",
        "  values[i] +=5\n",
        "i\n"
      ],
      "execution_count": 0,
      "outputs": []
    },
    {
      "cell_type": "code",
      "metadata": {
        "id": "JBjyH4ot7447",
        "colab_type": "code",
        "colab": {}
      },
      "source": [
        "import numpy as np\n",
        "values = [1, 2, 3, 4, 5]\n",
        "n = np.array(values) + 5\n",
        "n"
      ],
      "execution_count": 0,
      "outputs": []
    },
    {
      "cell_type": "code",
      "metadata": {
        "id": "6dOAciHN808W",
        "colab_type": "code",
        "colab": {}
      },
      "source": [
        "a = np.array([[1,3],[5,7]])\n",
        "a\n",
        "# displays the following result:\n",
        "# array([[1, 3],\n",
        "#        [5, 7]])\n",
        "\n",
        "b = np.array([[2,4],[6,8]])\n",
        "b\n",
        "# displays the following result:\n",
        "# array([[2, 4],\n",
        "#        [6, 8]])\n",
        "\n",
        "a + b\n",
        "# displays the following result\n",
        "#      array([[ 3,  7],\n",
        "#             [11, 15]])"
      ],
      "execution_count": 0,
      "outputs": []
    },
    {
      "cell_type": "code",
      "metadata": {
        "id": "eeD-zNOV8-Fz",
        "colab_type": "code",
        "colab": {}
      },
      "source": [
        "a = np.array([[1,3],[5,7]])\n",
        "a\n",
        "# displays the following result:\n",
        "# array([[1, 3],\n",
        "#        [5, 7]])\n",
        "c = np.array([[2,3,6],[4,5,9],[1,8,7]])\n",
        "c\n",
        "# displays the following result:\n",
        "# array([[2, 3, 6],\n",
        "#        [4, 5, 9],\n",
        "#        [1, 8, 7]])\n",
        "\n",
        "a.shape\n",
        "# displays the following result:\n",
        "#  (2, 2)\n",
        "\n",
        "c.shape\n",
        "# displays the following result:\n",
        "#  (3, 3)\n",
        "\n",
        "a + c\n",
        "# displays the following error:\n",
        "# ValueError: operands could not be broadcast together with shapes (2,2) (3,3) "
      ],
      "execution_count": 0,
      "outputs": []
    },
    {
      "cell_type": "code",
      "metadata": {
        "id": "20JfkZPJB7aj",
        "colab_type": "code",
        "colab": {}
      },
      "source": [
        "m = np.array([[1,2,3],[4,5,6]])\n",
        "m\n",
        "# displays the following result:\n",
        "# array([[1, 2, 3],\n",
        "#        [4, 5, 6]])\n",
        "\n",
        "n = m * 0.25\n",
        "n\n",
        "# displays the following result:\n",
        "# array([[ 0.25,  0.5 ,  0.75],\n",
        "#        [ 1.  ,  1.25,  1.5 ]])\n",
        "\n",
        "m * n\n",
        "# displays the following result:\n",
        "# array([[ 0.25,  1.  ,  2.25],\n",
        "#        [ 4.  ,  6.25,  9.  ]])\n",
        "\n",
        "np.multiply(m, n)   # equivalent to m * n\n",
        "# displays the following result:\n",
        "# array([[ 0.25,  1.  ,  2.25],\n",
        "#        [ 4.  ,  6.25,  9.  ]])"
      ],
      "execution_count": 0,
      "outputs": []
    },
    {
      "cell_type": "code",
      "metadata": {
        "id": "0uBkWybKB7_8",
        "colab_type": "code",
        "colab": {}
      },
      "source": [
        "a = np.array([[1,2,3,4],[5,6,7,8]])\n",
        "a\n",
        "# displays the following result:\n",
        "# array([[1, 2, 3, 4],\n",
        "#        [5, 6, 7, 8]])\n",
        "a.shape\n",
        "# displays the following result:\n",
        "# (2, 4)\n",
        "\n",
        "b = np.array([[1,2,3],[4,5,6],[7,8,9],[10,11,12]])\n",
        "b\n",
        "# displays the following result:\n",
        "# array([[ 1,  2,  3],\n",
        "#        [ 4,  5,  6],\n",
        "#        [ 7,  8,  9],\n",
        "#        [10, 11, 12]])\n",
        "b.shape\n",
        "# displays the following result:\n",
        "# (4, 3)\n",
        "\n",
        "c = np.matmul(a, b)\n",
        "c\n",
        "# displays the following result:\n",
        "# array([[ 70,  80,  90],\n",
        "#        [158, 184, 210]])\n",
        "c.shape\n",
        "# displays the following result:\n",
        "# (2, 3)"
      ],
      "execution_count": 0,
      "outputs": []
    },
    {
      "cell_type": "code",
      "metadata": {
        "id": "Qi5t4MjuCVO-",
        "colab_type": "code",
        "colab": {}
      },
      "source": [
        "np.matmul(b, a)\n",
        "# displays the following error:\n",
        "# ValueError: shapes (4,3) and (2,4) not aligned: 3 (dim 1) != 2 (dim 0)"
      ],
      "execution_count": 0,
      "outputs": []
    },
    {
      "cell_type": "code",
      "metadata": {
        "id": "Zhycg21MCcLe",
        "colab_type": "code",
        "colab": {}
      },
      "source": [
        "a = np.array([[1,2],[3,4]])\n",
        "a\n",
        "# displays the following result:\n",
        "# array([[1, 2],\n",
        "#        [3, 4]])\n",
        "\n",
        "np.dot(a,a)\n",
        "# displays the following result:\n",
        "# array([[ 7, 10],\n",
        "#        [15, 22]])\n",
        "\n",
        "a.dot(a)  # you can call `dot` directly on the `ndarray`\n",
        "# displays the following result:\n",
        "# array([[ 7, 10],\n",
        "#        [15, 22]])\n",
        "\n",
        "np.matmul(a,a)\n",
        "# array([[ 7, 10],\n",
        "#        [15, 22]])"
      ],
      "execution_count": 0,
      "outputs": []
    },
    {
      "cell_type": "code",
      "metadata": {
        "id": "Hmp97LKtCX-3",
        "colab_type": "code",
        "colab": {}
      },
      "source": [
        "m = np.array([[1,2,3,4], [5,6,7,8], [9,10,11,12]])\n",
        "m\n",
        "# displays the following result:\n",
        "# array([[ 1,  2,  3,  4],\n",
        "#        [ 5,  6,  7,  8],\n",
        "#        [ 9, 10, 11, 12]])\n",
        "\n",
        "m.T\n",
        "# displays the following result:\n",
        "# array([[ 1,  5,  9],\n",
        "#        [ 2,  6, 10],\n",
        "#        [ 3,  7, 11],\n",
        "#        [ 4,  8, 12]])"
      ],
      "execution_count": 0,
      "outputs": []
    },
    {
      "cell_type": "code",
      "metadata": {
        "id": "14Tvk0iBF5vM",
        "colab_type": "code",
        "colab": {}
      },
      "source": [
        "m_t = m.T\n",
        "m_t[3][1] = 200\n",
        "m_t\n",
        "# displays the following result:\n",
        "# array([[ 1,   5, 9],\n",
        "#        [ 2,   6, 10],\n",
        "#        [ 3,   7, 11],\n",
        "#        [ 4, 200, 12]])\n",
        "\n",
        "m\n",
        "# displays the following result:\n",
        "# array([[ 1,  2,  3,   4],\n",
        "#        [ 5,  6,  7, 200],\n",
        "#        [ 9, 10, 11,  12]])\n"
      ],
      "execution_count": 0,
      "outputs": []
    },
    {
      "cell_type": "code",
      "metadata": {
        "id": "ARiDILL9GEaV",
        "colab_type": "code",
        "colab": {}
      },
      "source": [
        "inputs = np.array([[-0.27,  0.45,  0.64, 0.31]])\n",
        "inputs\n",
        "# displays the following result:\n",
        "# array([[-0.27,  0.45,  0.64,  0.31]])\n",
        "\n",
        "inputs.shape\n",
        "# displays the following result:\n",
        "# (1, 4)\n",
        "\n",
        "weights = np.array([[0.02, 0.001, -0.03, 0.036], \\\n",
        "    [0.04, -0.003, 0.025, 0.009], [0.012, -0.045, 0.28, -0.067]])\n",
        "\n",
        "weights\n",
        "# displays the following result:\n",
        "# array([[ 0.02 ,  0.001, -0.03 ,  0.036],\n",
        "#        [ 0.04 , -0.003,  0.025,  0.009],\n",
        "#        [ 0.012, -0.045,  0.28 , -0.067]])\n",
        "\n",
        "weights.shape\n",
        "# displays the following result:\n",
        "# (3, 4)"
      ],
      "execution_count": 0,
      "outputs": []
    },
    {
      "cell_type": "code",
      "metadata": {
        "id": "LnV4glvmGUr7",
        "colab_type": "code",
        "colab": {}
      },
      "source": [
        "# Use the numpy library\n",
        "import numpy as np\n",
        "\n",
        "\n",
        "\n",
        "\n",
        "######################################################\n",
        "#\n",
        "#      MESSAGE TO STUDENTS:\n",
        "#\n",
        "#  This file contains a solution to the coding quiz. Feel free\n",
        "#  to look at it when you are stuck, but try to solve the\n",
        "#   problem on your own first.\n",
        "#\n",
        "######################################################\n",
        "\n",
        "\n",
        "def prepare_inputs(inputs):\n",
        "    # TODO: create a 2-dimensional ndarray from the given 1-dimensional list;\n",
        "    #       assign it to input_array\n",
        "    input_array = np.array([inputs])\n",
        "    \n",
        "    # TODO: find the minimum value in input_array and subtract that\n",
        "    #       value from all the elements of input_array. Store the\n",
        "    #       result in inputs_minus_min\n",
        "    # We can use NumPy's min function and element-wise division\n",
        "    inputs_minus_min = input_array - np.min(input_array)\n",
        "\n",
        "    # TODO: find the maximum value in inputs_minus_min and divide\n",
        "    #       all of the values in inputs_minus_min by the maximum value.\n",
        "    #       Store the results in inputs_div_max.\n",
        "    # We can use NumPy's max function and element-wise division\n",
        "    inputs_div_max = inputs_minus_min / np.max(inputs_minus_min)\n",
        "\n",
        "    return input_array, inputs_minus_min, inputs_div_max\n",
        "    \n",
        "\n",
        "def multiply_inputs(m1, m2):\n",
        "    # Check the shapes of the matrices m1 and m2. \n",
        "    # m1 and m2 will be ndarray objects.\n",
        "    #\n",
        "    # Return False if the shapes cannot be used for matrix\n",
        "    # multiplication. You may not use a transpose\n",
        "    if m1.shape[0] != m2.shape[1] and m1.shape[1] != m2.shape[0]:     \n",
        "        return False\n",
        "\n",
        "    # Have not returned False, so calculate the matrix product\n",
        "    # of m1 and m2 and return it. Do not use a transpose,\n",
        "    #       but you swap their order if necessary\n",
        "    if m1.shape[1] == m2.shape[0]:\n",
        "        return np.matmul(m1, m2)        \n",
        "    else:\n",
        "        return np.matmul(m2, m1)        \n",
        "\n",
        "\n",
        "def find_mean(values):\n",
        "    # Return the average of the values in the given Python list\n",
        "    # NumPy has a lot of helpful methods like this.\n",
        "    return np.mean(values)\n",
        "\n",
        "\n",
        "input_array, inputs_minus_min, inputs_div_max = prepare_inputs([-1,2,7])\n",
        "print(\"Input as Array: {}\".format(input_array))\n",
        "print(\"Input minus min: {}\".format(inputs_minus_min))\n",
        "print(\"Input  Array: {}\".format(inputs_div_max))\n",
        "\n",
        "print(\"Multiply 1:\\n{}\".format(multiply_inputs(np.array([[1,2,3],[4,5,6]]), np.array([[1],[2],[3],[4]]))))\n",
        "print(\"Multiply 2:\\n{}\".format(multiply_inputs(np.array([[1,2,3],[4,5,6]]), np.array([[1],[2],[3]]))))\n",
        "print(\"Multiply 3:\\n{}\".format(multiply_inputs(np.array([[1,2,3],[4,5,6]]), np.array([[1,2]]))))\n",
        "\n",
        "print(\"Mean == {}\".format(find_mean([1,3,4])))"
      ],
      "execution_count": 0,
      "outputs": []
    }
  ]
}