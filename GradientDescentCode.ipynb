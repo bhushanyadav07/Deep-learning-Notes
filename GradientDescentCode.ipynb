{
  "nbformat": 4,
  "nbformat_minor": 0,
  "metadata": {
    "colab": {
      "name": "GradientDescentCode.ipynb",
      "provenance": [],
      "private_outputs": true,
      "authorship_tag": "ABX9TyNrWmb/0KFBBWDiXw3hvCJh",
      "include_colab_link": true
    },
    "kernelspec": {
      "name": "python3",
      "display_name": "Python 3"
    }
  },
  "cells": [
    {
      "cell_type": "markdown",
      "metadata": {
        "id": "view-in-github",
        "colab_type": "text"
      },
      "source": [
        "<a href=\"https://colab.research.google.com/github/bhushanyadav07/Deep-learning-Notes/blob/master/GradientDescentCode.ipynb\" target=\"_parent\"><img src=\"https://colab.research.google.com/assets/colab-badge.svg\" alt=\"Open In Colab\"/></a>"
      ]
    },
    {
      "cell_type": "code",
      "metadata": {
        "id": "LyAIyzRmWg36",
        "colab_type": "code",
        "colab": {}
      },
      "source": [
        "# Defining the sigmoid function for activations\n",
        "def sigmoid(x):\n",
        "    return 1/(1+np.exp(-x))\n",
        "\n",
        "# Derivative of the sigmoid function\n",
        "def sigmoid_prime(x):\n",
        "    return sigmoid(x) * (1 - sigmoid(x))\n",
        "\n",
        "# Input data\n",
        "x = np.array([0.1, 0.3])\n",
        "# Target\n",
        "y = 0.2\n",
        "# Input to output weights\n",
        "weights = np.array([-0.8, 0.5])\n",
        "\n",
        "# The learning rate, eta in the weight step equation\n",
        "learnrate = 0.5\n",
        "\n",
        "# the linear combination performed by the node (h in f(h) and f'(h))\n",
        "h = x[0]*weights[0] + x[1]*weights[1]\n",
        "# or h = np.dot(x, weights)\n",
        "\n",
        "# The neural network output (y-hat)\n",
        "nn_output = sigmoid(h)\n",
        "\n",
        "# output error (y - y-hat)\n",
        "error = y - nn_output\n",
        "\n",
        "# output gradient (f'(h))\n",
        "output_grad = sigmoid_prime(h)\n",
        "\n",
        "# error term (lowercase delta)\n",
        "error_term = error * output_grad\n",
        "\n",
        "# Gradient descent step \n",
        "del_w = [ learnrate * error_term * x[0],\n",
        "          learnrate * error_term * x[1]]\n",
        "# or del_w = learnrate * error_term * x"
      ],
      "execution_count": 0,
      "outputs": []
    },
    {
      "cell_type": "markdown",
      "metadata": {
        "id": "ZBX6eLO3Z7Wb",
        "colab_type": "text"
      },
      "source": [
        "Neural Network output:\n",
        "0.6899744811276125\n",
        "Amount of Error:\n",
        "-0.1899744811276125\n",
        "Change in Weights:\n",
        "[-0.02031869 -0.04063738 -0.06095608 -0.08127477]\n",
        "\n"
      ]
    },
    {
      "cell_type": "markdown",
      "metadata": {
        "id": "O2GOgX35Ymcl",
        "colab_type": "text"
      },
      "source": [
        "Note: If you are wondering where the derivative of the sigmoid function comes from (sigmoid_prime above), check out the derivation in this post.\n",
        "\n",
        "In the quiz below, you'll implement gradient descent in code yourself, although with a few differences (which we'll leave to you to figure out!) from the above example."
      ]
    },
    {
      "cell_type": "code",
      "metadata": {
        "id": "tuoMqN7lYXKD",
        "colab_type": "code",
        "colab": {}
      },
      "source": [
        "import numpy as np\n",
        "\n",
        "def sigmoid(x):\n",
        "    \"\"\"\n",
        "    Calculate sigmoid\n",
        "    \"\"\"\n",
        "    return 1/(1+np.exp(-x))\n",
        "\n",
        "def sigmoid_prime(x):\n",
        "    \"\"\"\n",
        "    # Derivative of the sigmoid function\n",
        "    \"\"\"\n",
        "    return sigmoid(x) * (1 - sigmoid(x))\n",
        "\n",
        "learnrate = 0.5\n",
        "x = np.array([1, 2, 3, 4])\n",
        "y = np.array(0.5)\n",
        "\n",
        "# Initial weights\n",
        "w = np.array([0.5, -0.5, 0.3, 0.1])\n",
        "\n",
        "### Calculate one gradient descent step for each weight\n",
        "### Note: Some steps have been consolidated, so there are\n",
        "###       fewer variable names than in the above sample code\n",
        "\n",
        "# TODO: Calculate the node's linear combination of inputs and weights\n",
        "h = np.dot(x, w)\n",
        "\n",
        "# TODO: Calculate output of neural network\n",
        "nn_output = sigmoid(h)\n",
        "\n",
        "# TODO: Calculate error of neural network\n",
        "error = y - nn_output\n",
        "\n",
        "# TODO: Calculate the error term\n",
        "#       Remember, this requires the output gradient, which we haven't\n",
        "#       specifically added a variable for.\n",
        "error_term = error * sigmoid_prime(h)\n",
        "# Note: The sigmoid_prime function calculates sigmoid(h) twice,\n",
        "#       but you've already calculated it once. You can make this\n",
        "#       code more efficient by calculating the derivative directly\n",
        "#       rather than calling sigmoid_prime, like this:\n",
        "# error_term = error * nn_output * (1 - nn_output)\n",
        "\n",
        "# TODO: Calculate change in weights\n",
        "del_w = learnrate * error_term * x\n",
        "\n",
        "print('Neural Network output:')\n",
        "print(nn_output)\n",
        "print('Amount of Error:')\n",
        "print(error)\n",
        "print('Change in Weights:')\n",
        "print(del_w)"
      ],
      "execution_count": 0,
      "outputs": []
    },
    {
      "cell_type": "markdown",
      "metadata": {
        "id": "LIJFeg8ubHAr",
        "colab_type": "text"
      },
      "source": [
        "#Implementing Gradient Descent\n"
      ]
    },
    {
      "cell_type": "markdown",
      "metadata": {
        "id": "xBrHg5RSbNsx",
        "colab_type": "text"
      },
      "source": [
        "####gradient.py"
      ]
    },
    {
      "cell_type": "code",
      "metadata": {
        "id": "fVlp2cXjbKzZ",
        "colab_type": "code",
        "colab": {}
      },
      "source": [
        "import numpy as np\n",
        "from data_prep import features, targets, features_test, targets_test\n",
        "\n",
        "\n",
        "def sigmoid(x):\n",
        "    \"\"\"\n",
        "    Calculate sigmoid\n",
        "    \"\"\"\n",
        "    return 1 / (1 + np.exp(-x))\n",
        "\n",
        "# TODO: We haven't provided the sigmoid_prime function like we did in\n",
        "#       the previous lesson to encourage you to come up with a more\n",
        "#       efficient solution. If you need a hint, check out the comments\n",
        "#       in solution.py from the previous lecture.\n",
        "\n",
        "# Use to same seed to make debugging easier\n",
        "np.random.seed(42)\n",
        "\n",
        "n_records, n_features = features.shape\n",
        "last_loss = None\n",
        "\n",
        "# Initialize weights\n",
        "weights = np.random.normal(scale=1 / n_features**.5, size=n_features)\n",
        "\n",
        "# Neural Network hyperparameters\n",
        "epochs = 1000\n",
        "learnrate = 0.5\n",
        "\n",
        "for e in range(epochs):\n",
        "    del_w = np.zeros(weights.shape)\n",
        "    for x, y in zip(features.values, targets):\n",
        "        # Loop through all records, x is the input, y is the target\n",
        "\n",
        "        # Activation of the output unit\n",
        "        #   Notice we multiply the inputs and the weights here \n",
        "        #   rather than storing h as a separate variable \n",
        "        output = sigmoid(np.dot(x, weights))\n",
        "\n",
        "        # The error, the target minus the network output\n",
        "        error = y - output\n",
        "\n",
        "        # The error term\n",
        "        #   Notice we calulate f'(h) here instead of defining a separate\n",
        "        #   sigmoid_prime function. This just makes it faster because we\n",
        "        #   can re-use the result of the sigmoid function stored in\n",
        "        #   the output variable\n",
        "        error_term = error * output * (1 - output)\n",
        "\n",
        "        # The gradient descent step, the error times the gradient times the inputs\n",
        "        del_w += error_term * x\n",
        "\n",
        "    # Update the weights here. The learning rate times the \n",
        "    # change in weights, divided by the number of records to average\n",
        "    weights += learnrate * del_w / n_records\n",
        "\n",
        "    # Printing out the mean square error on the training set\n",
        "    if e % (epochs / 10) == 0:\n",
        "        out = sigmoid(np.dot(features, weights))\n",
        "        loss = np.mean((out - targets) ** 2)\n",
        "        if last_loss and last_loss < loss:\n",
        "            print(\"Train loss: \", loss, \"  WARNING - Loss Increasing\")\n",
        "        else:\n",
        "            print(\"Train loss: \", loss)\n",
        "        last_loss = loss\n",
        "\n",
        "\n",
        "# Calculate accuracy on test data\n",
        "tes_out = sigmoid(np.dot(features_test, weights))\n",
        "predictions = tes_out > 0.5\n",
        "accuracy = np.mean(predictions == targets_test)\n",
        "print(\"Prediction accuracy: {:.3f}\".format(accuracy))"
      ],
      "execution_count": 0,
      "outputs": []
    },
    {
      "cell_type": "markdown",
      "metadata": {
        "id": "6QF65o2abHGA",
        "colab_type": "text"
      },
      "source": [
        "####data_pro.py"
      ]
    },
    {
      "cell_type": "code",
      "metadata": {
        "id": "Y6QOHwSMbZBh",
        "colab_type": "code",
        "colab": {}
      },
      "source": [
        "import numpy as np\n",
        "import pandas as pd\n",
        "\n",
        "admissions = pd.read_csv('binary.csv')\n",
        "\n",
        "# Make dummy variables for rank\n",
        "data = pd.concat([admissions, pd.get_dummies(admissions['rank'], prefix='rank')], axis=1)\n",
        "data = data.drop('rank', axis=1)\n",
        "\n",
        "# Standarize features\n",
        "for field in ['gre', 'gpa']:\n",
        "    mean, std = data[field].mean(), data[field].std()\n",
        "    data.loc[:,field] = (data[field]-mean)/std\n",
        "    \n",
        "# Split off random 10% of the data for testing\n",
        "np.random.seed(42)\n",
        "sample = np.random.choice(data.index, size=int(len(data)*0.9), replace=False)\n",
        "data, test_data = data.ix[sample], data.drop(sample)\n",
        "\n",
        "# Split into features and targets\n",
        "features, targets = data.drop('admit', axis=1), data['admit']\n",
        "features_test, targets_test = test_data.drop('admit', axis=1), test_data['admit']"
      ],
      "execution_count": 0,
      "outputs": []
    },
    {
      "cell_type": "markdown",
      "metadata": {
        "id": "OuOohIEkbeu6",
        "colab_type": "text"
      },
      "source": [
        "DataSET [link text](https://stats.idre.ucla.edu/stat/data/binary.csv)"
      ]
    }
  ]
}