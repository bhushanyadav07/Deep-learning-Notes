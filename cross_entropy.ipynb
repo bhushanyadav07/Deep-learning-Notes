{
  "nbformat": 4,
  "nbformat_minor": 0,
  "metadata": {
    "colab": {
      "name": "cross_entropy.ipynb",
      "provenance": [],
      "private_outputs": true,
      "authorship_tag": "ABX9TyM3xsucDUKvSAQo+vFi8vPo",
      "include_colab_link": true
    },
    "kernelspec": {
      "name": "python3",
      "display_name": "Python 3"
    }
  },
  "cells": [
    {
      "cell_type": "markdown",
      "metadata": {
        "id": "view-in-github",
        "colab_type": "text"
      },
      "source": [
        "<a href=\"https://colab.research.google.com/github/bhushanyadav07/Deep-learning-Notes/blob/master/cross_entropy.ipynb\" target=\"_parent\"><img src=\"https://colab.research.google.com/assets/colab-badge.svg\" alt=\"Open In Colab\"/></a>"
      ]
    },
    {
      "cell_type": "markdown",
      "metadata": {
        "id": "-EZal8XdLZyY",
        "colab_type": "text"
      },
      "source": [
        "#Quiz: Coding Cross-entropy\n",
        "Now, time to shine! Let's code the formula for cross-entropy in Python. As in the video, Y in the quiz is for the category, and P is the probability."
      ]
    },
    {
      "cell_type": "code",
      "metadata": {
        "id": "n3GimN0_LKt1",
        "colab_type": "code",
        "colab": {}
      },
      "source": [
        "import numpy as np\n",
        "\n",
        "# Write a function that takes as input two lists Y, P,\n",
        "# and returns the float corresponding to their cross-entropy.\n",
        "def cross_entropy(Y, P):\n",
        "    pass"
      ],
      "execution_count": 0,
      "outputs": []
    },
    {
      "cell_type": "code",
      "metadata": {
        "id": "qfb4IXyOLegv",
        "colab_type": "code",
        "colab": {}
      },
      "source": [
        "import numpy as np\n",
        "\n",
        "def cross_entropy(Y, P):\n",
        "    Y = np.float_(Y)\n",
        "    P = np.float_(P)\n",
        "    return -np.sum(Y * np.log(P) + (1 - Y) * np.log(1 - P))"
      ],
      "execution_count": 0,
      "outputs": []
    },
    {
      "cell_type": "markdown",
      "metadata": {
        "id": "Oviarz-0LsDp",
        "colab_type": "text"
      },
      "source": [
        ">Trying for Y=[1,0,1,1] and P=[0.4,0.6,0.1,0.5].\n",
        "The correct answer is\n",
        "4.8283137373\n",
        "And your code returned\n",
        "4.8283137373\n",
        "\n",
        "Correct!"
      ]
    }
  ]
}