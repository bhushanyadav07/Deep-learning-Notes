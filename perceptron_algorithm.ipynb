{
  "nbformat": 4,
  "nbformat_minor": 0,
  "metadata": {
    "colab": {
      "name": "perceptron_algorithm.ipynb",
      "provenance": [],
      "private_outputs": true,
      "authorship_tag": "ABX9TyNygJSd14qdUDmoOBlsuKr3",
      "include_colab_link": true
    },
    "kernelspec": {
      "name": "python3",
      "display_name": "Python 3"
    }
  },
  "cells": [
    {
      "cell_type": "markdown",
      "metadata": {
        "id": "view-in-github",
        "colab_type": "text"
      },
      "source": [
        "<a href=\"https://colab.research.google.com/github/bhushanyadav07/Notes/blob/master/perceptron_algorithm.ipynb\" target=\"_parent\"><img src=\"https://colab.research.google.com/assets/colab-badge.svg\" alt=\"Open In Colab\"/></a>"
      ]
    },
    {
      "cell_type": "markdown",
      "metadata": {
        "id": "feT2bXSKNtx3",
        "colab_type": "text"
      },
      "source": [
        "##Coding the Perceptron Algorithm\n",
        "Time to code! In this quiz, you'll have the chance to implement the perceptron algorithm to separate the following data (given in the file data.csv).\n",
        "\n",
        "\n",
        "![alt text](https://https://video.udacity-data.com/topher/2017/May/590d06dd_points/points.png)Recall that the perceptron step works as follows. For a point with coordinates (p,q)(p,q), label yy, and prediction given by the equation \\hat{y} = step(w_1x_1 + w_2x_2 + b) \n",
        "y\n",
        "^\n",
        "​\t =step(w \n",
        "1\n",
        "​\t x \n",
        "1\n",
        "​\t +w \n",
        "2\n",
        "​\t x \n",
        "2\n",
        "​\t +b):\n",
        "\n",
        "If the point is correctly classified, do nothing.\n",
        "If the point is classified positive, but it has a negative label, subtract \\alpha p, \\alpha q,αp,αq, and \\alphaα from w_1, w_2,w \n",
        "1\n",
        "​\t ,w \n",
        "2\n",
        "​\t , and bb respectively.\n",
        "If the point is classified negative, but it has a positive label, add \\alpha p, \\alpha q,αp,αq, and \\alphaα to w_1, w_2,w \n",
        "1\n",
        "​\t ,w \n",
        "2\n",
        "​\t , and bb respectively.\n",
        "Then click on test run to graph the solution that the perceptron algorithm gives you. It'll actually draw a set of dotted lines, that show how the algorithm approaches to the best solution, given by the black solid line.\n",
        "\n",
        "Feel free to play with the parameters of the algorithm (number of epochs, learning rate, and even the randomizing of the initial parameters) to see how your initial conditions can affect the solution!"
      ]
    },
    {
      "cell_type": "code",
      "metadata": {
        "id": "YKv-cl_tNspw",
        "colab_type": "code",
        "colab": {}
      },
      "source": [
        "import numpy as np\n",
        "# Setting the random seed, feel free to change it and see different solutions.\n",
        "np.random.seed(42)\n",
        "\n",
        "def stepFunction(t):\n",
        "    if t >= 0:\n",
        "        return 1\n",
        "    return 0\n",
        "\n",
        "def prediction(X, W, b):\n",
        "    return stepFunction((np.matmul(X,W)+b)[0])\n",
        "\n",
        "# TODO: Fill in the code below to implement the perceptron trick.\n",
        "# The function should receive as inputs the data X, the labels y,\n",
        "# the weights W (as an array), and the bias b,\n",
        "# update the weights and bias W, b, according to the perceptron algorithm,\n",
        "# and return W and b.\n",
        "def perceptronStep(X, y, W, b, learn_rate = 0.01):\n",
        "    for i in range(len(X)):\n",
        "        y_hat = prediction(X[i],W,b)\n",
        "        if y[i]-y_hat == 1:\n",
        "            W[0] += X[i][0]*learn_rate\n",
        "            W[1] += X[i][1]*learn_rate\n",
        "            b += learn_rate\n",
        "        elif y[i]-y_hat == -1:\n",
        "            W[0] -= X[i][0]*learn_rate\n",
        "            W[1] -= X[i][1]*learn_rate\n",
        "            b -= learn_rate\n",
        "    return W, b\n",
        "\n",
        "    \n",
        "# This function runs the perceptron algorithm repeatedly on the dataset,\n",
        "# and returns a few of the boundary lines obtained in the iterations,\n",
        "# for plotting purposes.\n",
        "# Feel free to play with the learning rate and the num_epochs,\n",
        "# and see your results plotted below.\n",
        "def trainPerceptronAlgorithm(X, y, learn_rate = 0.01, num_epochs = 25):\n",
        "    x_min, x_max = min(X.T[0]), max(X.T[0])\n",
        "    y_min, y_max = min(X.T[1]), max(X.T[1])\n",
        "    W = np.array(np.random.rand(2,1))\n",
        "    b = np.random.rand(1)[0] + x_max\n",
        "    # These are the solution lines that get plotted below.\n",
        "    boundary_lines = []\n",
        "    for i in range(num_epochs):\n",
        "        # In each epoch, we apply the perceptron step.\n",
        "        W, b = perceptronStep(X, y, W, b, learn_rate)\n",
        "        boundary_lines.append((-W[0]/W[1], -b/W[1]))\n",
        "    return boundary_lines\n",
        "\n"
      ],
      "execution_count": 0,
      "outputs": []
    },
    {
      "cell_type": "markdown",
      "metadata": {
        "id": "L2MakzkmTi8D",
        "colab_type": "text"
      },
      "source": [
        "**Error Function**\n",
        ">error func should be continuous\\\n",
        ">error func should be differntiable\n",
        "\n",
        ">Quiz: The sigmoid function is defined as sigmoid(x) = 1/(1+e-x). If the score is defined by 4x1 + 5x2 - 9 = score, then which of the following points has exactly a 50% probability of being blue or red? (Choose all that are correct.)"
      ]
    },
    {
      "cell_type": "markdown",
      "metadata": {
        "id": "m4E9fUjLT6ad",
        "colab_type": "text"
      },
      "source": [
        "Softmax: Classification problem\n",
        "\n",
        "P(gift) = 0.8 P(no gift) = 1 - P(gift) = 0.2\n",
        "\n",
        "Softmax\n",
        "\n",
        "a ---> 2 b ---> 1 c ---> 0\n",
        "\n",
        "p(a) = 2 / (2+1+0) p(b) = 1 / (2+1+0) p(c) = 0 / (2+1+0)\n",
        "\n",
        "The problem is what if we got negative numbers as score. then it will leads to something/0\n",
        "\n",
        "Can we fix it ? import math math.exp ( ? )\n",
        "\n",
        "cool right ?\n",
        "\n",
        "a ---> 2 b ---> 1 c ---> 0\n",
        "\n",
        "p(a) = e^2 / (e^2+ e^1+ e^0) p(b) = e^1 / (e^2+ e^1+ e^0) p(c) = e^0 / (e^2+ e^1+ e^0)\n",
        "\n",
        "This is called softmax ...\n",
        "\n",
        "QUIZ:"
      ]
    },
    {
      "cell_type": "code",
      "metadata": {
        "id": "fh3jCAgcO0Iy",
        "colab_type": "code",
        "colab": {}
      },
      "source": [
        "import numpy as np\n",
        "\n",
        "# Write a function that takes as input a list of numbers, and returns\n",
        "# the list of values given by the softmax function.\n",
        "def softmax(L):\n",
        "    pass"
      ],
      "execution_count": 0,
      "outputs": []
    },
    {
      "cell_type": "markdown",
      "metadata": {
        "id": "qWFajvfnUCAQ",
        "colab_type": "text"
      },
      "source": [
        "####Solution"
      ]
    },
    {
      "cell_type": "code",
      "metadata": {
        "id": "5MhtJ05rUFal",
        "colab_type": "code",
        "colab": {}
      },
      "source": [
        "import numpy as np\n",
        "\n",
        "# Write a function that takes as input a list of numbers, and returns\n",
        "# the list of values given by the softmax function.\n",
        "def softmax(L):\n",
        "    \n",
        "    eL = np.sum(np.exp(L))\n",
        "    return [ np.exp(item) / eL for item in L ]"
      ],
      "execution_count": 0,
      "outputs": []
    },
    {
      "cell_type": "markdown",
      "metadata": {
        "id": "Juv6X7CFUId_",
        "colab_type": "text"
      },
      "source": [
        "####OR"
      ]
    },
    {
      "cell_type": "code",
      "metadata": {
        "id": "3YGuozX4UKOw",
        "colab_type": "code",
        "colab": {}
      },
      "source": [
        "import numpy as np\n",
        "\n",
        "def softmax(L):\n",
        "    expL = np.exp(L)\n",
        "    sumExpL = sum(expL)\n",
        "    result = []\n",
        "    for i in expL:\n",
        "        result.append(i*1.0/sumExpL)\n",
        "    return result\n",
        "    \n",
        "    # Note: The function np.divide can also be used here, as follows:\n",
        "    # def softmax(L):\n",
        "    #     expL = np.exp(L)\n",
        "    #     return np.divide (expL, expL.sum())\n"
      ],
      "execution_count": 0,
      "outputs": []
    }
  ]
}